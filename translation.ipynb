{
  "metadata": {
    "kernelspec": {
      "language": "python",
      "display_name": "Python 3",
      "name": "python3"
    },
    "language_info": {
      "name": "python",
      "version": "3.11.11",
      "mimetype": "text/x-python",
      "codemirror_mode": {
        "name": "ipython",
        "version": 3
      },
      "pygments_lexer": "ipython3",
      "nbconvert_exporter": "python",
      "file_extension": ".py"
    },
    "kaggle": {
      "accelerator": "none",
      "dataSources": [
        {
          "sourceId": 10816530,
          "sourceType": "datasetVersion",
          "datasetId": 6715556
        }
      ],
      "dockerImageVersionId": 31012,
      "isInternetEnabled": false,
      "language": "python",
      "sourceType": "notebook",
      "isGpuEnabled": false
    },
    "colab": {
      "name": "translation ",
      "provenance": [],
      "toc_visible": true,
      "include_colab_link": true
    }
  },
  "nbformat_minor": 0,
  "nbformat": 4,
  "cells": [
    {
      "cell_type": "markdown",
      "metadata": {
        "id": "view-in-github",
        "colab_type": "text"
      },
      "source": [
        "<a href=\"https://colab.research.google.com/github/aklanaklan/gihub/blob/main/translation.ipynb\" target=\"_parent\"><img src=\"https://colab.research.google.com/assets/colab-badge.svg\" alt=\"Open In Colab\"/></a>"
      ]
    },
    {
      "source": [
        "# IMPORTANT: RUN THIS CELL IN ORDER TO IMPORT YOUR KAGGLE DATA SOURCES,\n",
        "# THEN FEEL FREE TO DELETE THIS CELL.\n",
        "# NOTE: THIS NOTEBOOK ENVIRONMENT DIFFERS FROM KAGGLE'S PYTHON\n",
        "# ENVIRONMENT SO THERE MAY BE MISSING LIBRARIES USED BY YOUR\n",
        "# NOTEBOOK.\n",
        "import kagglehub\n",
        "samayashar_fraud_detection_transactions_dataset_path = kagglehub.dataset_download('samayashar/fraud-detection-transactions-dataset')\n",
        "\n",
        "print('Data source import complete.')\n"
      ],
      "metadata": {
        "id": "sCRVRYyE3TJl"
      },
      "cell_type": "code",
      "outputs": [],
      "execution_count": null
    },
    {
      "cell_type": "code",
      "source": [
        "# This Python 3 environment comes with many helpful analytics libraries installed\n",
        "# It is defined by the kaggle/python Docker image: https://github.com/kaggle/docker-python\n",
        "# For example, here's several helpful packages to load\n",
        "\n",
        "import numpy as np # linear algebra\n",
        "import pandas as pd # data processing, CSV file I/O (e.g. pd.read_csv)\n",
        "\n",
        "# Input data files are available in the read-only \"../input/\" directory\n",
        "# For example, running this (by clicking run or pressing Shift+Enter) will list all files under the input directory\n",
        "\n",
        "import os\n",
        "for dirname, _, filenames in os.walk('/kaggle/input'):\n",
        "    for filename in filenames:\n",
        "        print(os.path.join(dirname, filename))\n",
        "\n",
        "# You can write up to 20GB to the current directory (/kaggle/working/) that gets preserved as output when you create a version using \"Save & Run All\"\n",
        "# You can also write temporary files to /kaggle/temp/, but they won't be saved outside of the current session"
      ],
      "metadata": {
        "_uuid": "8f2839f25d086af736a60e9eeb907d3b93b6e0e5",
        "_cell_guid": "b1076dfc-b9ad-4769-8c92-a6c4dae69d19",
        "trusted": true,
        "execution": {
          "iopub.status.busy": "2025-05-10T17:54:31.021898Z",
          "iopub.execute_input": "2025-05-10T17:54:31.022205Z",
          "iopub.status.idle": "2025-05-10T17:54:31.030295Z",
          "shell.execute_reply.started": "2025-05-10T17:54:31.022183Z",
          "shell.execute_reply": "2025-05-10T17:54:31.029477Z"
        },
        "id": "dwp1FIpN3TJr",
        "outputId": "5aa2a93d-2052-48a7-ed7d-72fabd321fcb"
      },
      "outputs": [
        {
          "name": "stdout",
          "text": "/kaggle/input/fraud-detection-transactions-dataset/synthetic_fraud_dataset.csv\n",
          "output_type": "stream"
        }
      ],
      "execution_count": null
    },
    {
      "cell_type": "code",
      "source": [
        "import os\n",
        "import pandas as pd\n",
        "\n",
        "# Path to your dataset\n",
        "file_path = \"/kaggle/input/fraud-detection-transactions-dataset/synthetic_fraud_dataset.csv\"\n",
        "\n",
        "# Verify the file exists, then load it\n",
        "if os.path.exists(file_path):\n",
        "    df = pd.read_csv(file_path)\n",
        "    print(df.head())\n",
        "else:\n",
        "    raise FileNotFoundError(f\"Could not find file at {file_path}\")\n"
      ],
      "metadata": {
        "trusted": true,
        "execution": {
          "iopub.status.busy": "2025-05-10T17:54:31.07732Z",
          "iopub.execute_input": "2025-05-10T17:54:31.077932Z",
          "iopub.status.idle": "2025-05-10T17:54:31.272461Z",
          "shell.execute_reply.started": "2025-05-10T17:54:31.077908Z",
          "shell.execute_reply": "2025-05-10T17:54:31.271742Z"
        },
        "id": "REy2oIHt3TJs",
        "outputId": "8aa11c15-41e7-42af-81b8-465704daf769"
      },
      "outputs": [
        {
          "name": "stdout",
          "text": "  Transaction_ID    User_ID  Transaction_Amount Transaction_Type  \\\n0      TXN_33553  USER_1834               39.79              POS   \n1       TXN_9427  USER_7875                1.19    Bank Transfer   \n2        TXN_199  USER_2734               28.96           Online   \n3      TXN_12447  USER_2617              254.32   ATM Withdrawal   \n4      TXN_39489  USER_2014               31.28              POS   \n\n             Timestamp  Account_Balance Device_Type  Location  \\\n0  2023-08-14 19:30:00         93213.17      Laptop    Sydney   \n1  2023-06-07 04:01:00         75725.25      Mobile  New York   \n2  2023-06-20 15:25:00          1588.96      Tablet    Mumbai   \n3  2023-12-07 00:31:00         76807.20      Tablet  New York   \n4  2023-11-11 23:44:00         92354.66      Mobile    Mumbai   \n\n  Merchant_Category  IP_Address_Flag  ...  Daily_Transaction_Count  \\\n0            Travel                0  ...                        7   \n1          Clothing                0  ...                       13   \n2       Restaurants                0  ...                       14   \n3          Clothing                0  ...                        8   \n4       Electronics                0  ...                       14   \n\n   Avg_Transaction_Amount_7d  Failed_Transaction_Count_7d   Card_Type  \\\n0                     437.63                            3        Amex   \n1                     478.76                            4  Mastercard   \n2                      50.01                            4        Visa   \n3                     182.48                            4        Visa   \n4                     328.69                            4  Mastercard   \n\n  Card_Age  Transaction_Distance  Authentication_Method Risk_Score  \\\n0       65                883.17              Biometric     0.8494   \n1      186               2203.36               Password     0.0959   \n2      226               1909.29              Biometric     0.8400   \n3       76               1311.86                    OTP     0.7935   \n4      140                966.98               Password     0.3819   \n\n   Is_Weekend  Fraud_Label  \n0           0            0  \n1           0            1  \n2           0            1  \n3           0            1  \n4           1            1  \n\n[5 rows x 21 columns]\n",
          "output_type": "stream"
        }
      ],
      "execution_count": null
    },
    {
      "cell_type": "code",
      "source": [
        "desc = df.describe().T\n",
        "desc['median']   = df.median(numeric_only=True)\n",
        "desc['mode']     = df.mode().iloc[0]\n",
        "desc['variance'] = df.var(numeric_only=True)\n"
      ],
      "metadata": {
        "trusted": true,
        "execution": {
          "iopub.status.busy": "2025-05-10T17:54:31.273882Z",
          "iopub.execute_input": "2025-05-10T17:54:31.27414Z",
          "iopub.status.idle": "2025-05-10T17:54:31.481937Z",
          "shell.execute_reply.started": "2025-05-10T17:54:31.274121Z",
          "shell.execute_reply": "2025-05-10T17:54:31.481311Z"
        },
        "id": "qVLFuiUB3TJt"
      },
      "outputs": [],
      "execution_count": null
    },
    {
      "cell_type": "code",
      "source": [
        "result = desc[['mean', 'std', 'median', 'mode', 'variance']]\n",
        "print(result)"
      ],
      "metadata": {
        "trusted": true,
        "execution": {
          "iopub.status.busy": "2025-05-10T17:54:31.482734Z",
          "iopub.execute_input": "2025-05-10T17:54:31.483005Z",
          "iopub.status.idle": "2025-05-10T17:54:31.491082Z",
          "shell.execute_reply.started": "2025-05-10T17:54:31.482979Z",
          "shell.execute_reply": "2025-05-10T17:54:31.490128Z"
        },
        "id": "vIf2y8qI3TJt",
        "outputId": "5a1f141b-6dd5-458b-cf37-9da99b1f84ce"
      },
      "outputs": [
        {
          "name": "stdout",
          "text": "                                      mean           std       median    mode  \\\nTransaction_Amount               99.411012     98.687292     69.66000    7.65   \nAccount_Balance               50294.065981  28760.458557  50384.43000  639.34   \nIP_Address_Flag                   0.050200      0.218360      0.00000     0.0   \nPrevious_Fraudulent_Activity      0.098400      0.297858      0.00000     0.0   \nDaily_Transaction_Count           7.485240      4.039637      7.00000     3.0   \nAvg_Transaction_Amount_7d       255.271924    141.382279    256.08500   82.26   \nFailed_Transaction_Count_7d       2.003540      1.414273      2.00000     3.0   \nCard_Age                        119.999940     68.985817    120.00000    80.0   \nTransaction_Distance           2499.164155   1442.013834   2490.78500  951.92   \nRisk_Score                        0.501556      0.287774      0.50225  0.6917   \nIs_Weekend                        0.299640      0.458105      0.00000     0.0   \nFraud_Label                       0.321340      0.466996      0.00000     0.0   \n\n                                  variance  \nTransaction_Amount            9.739182e+03  \nAccount_Balance               8.271640e+08  \nIP_Address_Flag               4.768091e-02  \nPrevious_Fraudulent_Activity  8.871921e-02  \nDaily_Transaction_Count       1.631867e+01  \nAvg_Transaction_Amount_7d     1.998895e+04  \nFailed_Transaction_Count_7d   2.000167e+00  \nCard_Age                      4.759043e+03  \nTransaction_Distance          2.079404e+06  \nRisk_Score                    8.281394e-02  \nIs_Weekend                    2.098601e-01  \nFraud_Label                   2.180850e-01  \n",
          "output_type": "stream"
        }
      ],
      "execution_count": null
    },
    {
      "cell_type": "markdown",
      "source": [
        "**bold text**# ****2.1 Data Understanding****#"
      ],
      "metadata": {
        "id": "2LRFPM_S3TJu"
      }
    },
    {
      "cell_type": "markdown",
      "source": [
        "**2.1.1 Data Inventory**"
      ],
      "metadata": {
        "id": "Idig9i0A3TJv"
      }
    },
    {
      "cell_type": "code",
      "source": [
        "# Print the number of rows and columns, and data types of each column\n",
        "print(\"Shape:\", df.shape)\n",
        "print(df.dtypes)\n",
        "parse_dates=['Timestamp']"
      ],
      "metadata": {
        "trusted": true,
        "execution": {
          "iopub.status.busy": "2025-05-10T17:54:31.492914Z",
          "iopub.execute_input": "2025-05-10T17:54:31.493168Z",
          "iopub.status.idle": "2025-05-10T17:54:31.509579Z",
          "shell.execute_reply.started": "2025-05-10T17:54:31.493151Z",
          "shell.execute_reply": "2025-05-10T17:54:31.508729Z"
        },
        "id": "7zpSS9vo3TJw",
        "outputId": "d3cbb83e-cddf-4bfa-f0d6-4dbb01ad42b1"
      },
      "outputs": [
        {
          "name": "stdout",
          "text": "Shape: (50000, 21)\nTransaction_ID                   object\nUser_ID                          object\nTransaction_Amount              float64\nTransaction_Type                 object\nTimestamp                        object\nAccount_Balance                 float64\nDevice_Type                      object\nLocation                         object\nMerchant_Category                object\nIP_Address_Flag                   int64\nPrevious_Fraudulent_Activity      int64\nDaily_Transaction_Count           int64\nAvg_Transaction_Amount_7d       float64\nFailed_Transaction_Count_7d       int64\nCard_Type                        object\nCard_Age                          int64\nTransaction_Distance            float64\nAuthentication_Method            object\nRisk_Score                      float64\nIs_Weekend                        int64\nFraud_Label                       int64\ndtype: object\n",
          "output_type": "stream"
        }
      ],
      "execution_count": null
    },
    {
      "cell_type": "markdown",
      "source": [
        "\n",
        "**2.1.2 Missing Values & Duplicates**"
      ],
      "metadata": {
        "id": "RmK7U8hJ3TJx"
      }
    },
    {
      "cell_type": "code",
      "source": [
        "# Count missing values in each column\n",
        "missing_counts = df.isnull().sum()\n",
        "print(\"Missing values per column:\\n\", missing_counts)\n",
        "\n",
        "# Check for duplicate Transaction_ID entries\n",
        "duplicate_count = df.duplicated(subset=['Transaction_ID']).sum()\n",
        "print(\"Number of duplicate Transaction_IDs:\", duplicate_count)\n"
      ],
      "metadata": {
        "trusted": true,
        "execution": {
          "iopub.status.busy": "2025-05-10T17:54:31.510467Z",
          "iopub.execute_input": "2025-05-10T17:54:31.510787Z",
          "iopub.status.idle": "2025-05-10T17:54:31.564941Z",
          "shell.execute_reply.started": "2025-05-10T17:54:31.510763Z",
          "shell.execute_reply": "2025-05-10T17:54:31.564188Z"
        },
        "id": "515rvw-43TJx",
        "outputId": "a2cc9d0f-de46-4be8-c40b-f116af4f64d2"
      },
      "outputs": [
        {
          "name": "stdout",
          "text": "Missing values per column:\n Transaction_ID                  0\nUser_ID                         0\nTransaction_Amount              0\nTransaction_Type                0\nTimestamp                       0\nAccount_Balance                 0\nDevice_Type                     0\nLocation                        0\nMerchant_Category               0\nIP_Address_Flag                 0\nPrevious_Fraudulent_Activity    0\nDaily_Transaction_Count         0\nAvg_Transaction_Amount_7d       0\nFailed_Transaction_Count_7d     0\nCard_Type                       0\nCard_Age                        0\nTransaction_Distance            0\nAuthentication_Method           0\nRisk_Score                      0\nIs_Weekend                      0\nFraud_Label                     0\ndtype: int64\nNumber of duplicate Transaction_IDs: 0\n",
          "output_type": "stream"
        }
      ],
      "execution_count": null
    },
    {
      "cell_type": "markdown",
      "source": [
        "****2.1.3 Outliers Detection****"
      ],
      "metadata": {
        "id": "NnQ46PxS3TJy"
      }
    },
    {
      "cell_type": "code",
      "source": [
        "# Select numeric columns\n",
        "numeric_columns = df.select_dtypes(include=['number']).columns\n",
        "\n",
        "# Compute Q1, Q3, and IQR for numeric columns\n",
        "Q1 = df[numeric_columns].quantile(0.25)\n",
        "Q3 = df[numeric_columns].quantile(0.75)\n",
        "IQR = Q3 - Q1\n",
        "\n",
        "# Count values outside [Q1 - 1.5*IQR, Q3 + 1.5*IQR]\n",
        "outlier_counts = ((df[numeric_columns] < (Q1 - 1.5 * IQR)) |\n",
        "                  (df[numeric_columns] > (Q3 + 1.5 * IQR))).sum()\n",
        "print(\"Outliers per numeric column:\\n\", outlier_counts)\n"
      ],
      "metadata": {
        "trusted": true,
        "execution": {
          "iopub.status.busy": "2025-05-10T17:54:31.565767Z",
          "iopub.execute_input": "2025-05-10T17:54:31.566011Z",
          "iopub.status.idle": "2025-05-10T17:54:31.606234Z",
          "shell.execute_reply.started": "2025-05-10T17:54:31.565987Z",
          "shell.execute_reply": "2025-05-10T17:54:31.605626Z"
        },
        "id": "fux17ssa3TJy",
        "outputId": "d1d5d272-325f-43b5-ec9d-3d72b53ccb83"
      },
      "outputs": [
        {
          "name": "stdout",
          "text": "Outliers per numeric column:\n Transaction_Amount              2260\nAccount_Balance                    0\nIP_Address_Flag                 2510\nPrevious_Fraudulent_Activity    4920\nDaily_Transaction_Count            0\nAvg_Transaction_Amount_7d          0\nFailed_Transaction_Count_7d        0\nCard_Age                           0\nTransaction_Distance               0\nRisk_Score                         0\nIs_Weekend                         0\nFraud_Label                        0\ndtype: int64\n",
          "output_type": "stream"
        }
      ],
      "execution_count": null
    },
    {
      "cell_type": "markdown",
      "source": [
        "****2.1.4 Initial Profiling****"
      ],
      "metadata": {
        "id": "byU5dbVq3TJy"
      }
    },
    {
      "cell_type": "code",
      "source": [
        "# Generate basic descriptive statistics for numeric columns\n",
        "stats = df[numeric_columns].describe().T[['mean', 'std', 'min', 'max']]\n",
        "print(\"Descriptive statistics:\\n\", stats)\n",
        "\n",
        "# Identify the top 4 most frequent categories in 'Transaction_Type'\n",
        "top_types = df['Transaction_Type'].value_counts().head(4)\n",
        "print(\"Top Transaction Types:\\n\", top_types)\n"
      ],
      "metadata": {
        "trusted": true,
        "execution": {
          "iopub.status.busy": "2025-05-10T17:54:31.607108Z",
          "iopub.execute_input": "2025-05-10T17:54:31.607405Z",
          "iopub.status.idle": "2025-05-10T17:54:31.656713Z",
          "shell.execute_reply.started": "2025-05-10T17:54:31.607385Z",
          "shell.execute_reply": "2025-05-10T17:54:31.655847Z"
        },
        "id": "XuoBbPf73TJy",
        "outputId": "527f2e7f-fe16-42c4-b14e-cedec585db71"
      },
      "outputs": [
        {
          "name": "stdout",
          "text": "Descriptive statistics:\n                                       mean           std       min       max\nTransaction_Amount               99.411012     98.687292    0.0000   1174.14\nAccount_Balance               50294.065981  28760.458557  500.4800  99998.31\nIP_Address_Flag                   0.050200      0.218360    0.0000      1.00\nPrevious_Fraudulent_Activity      0.098400      0.297858    0.0000      1.00\nDaily_Transaction_Count           7.485240      4.039637    1.0000     14.00\nAvg_Transaction_Amount_7d       255.271924    141.382279   10.0000    500.00\nFailed_Transaction_Count_7d       2.003540      1.414273    0.0000      4.00\nCard_Age                        119.999940     68.985817    1.0000    239.00\nTransaction_Distance           2499.164155   1442.013834    0.2500   4999.93\nRisk_Score                        0.501556      0.287774    0.0001      1.00\nIs_Weekend                        0.299640      0.458105    0.0000      1.00\nFraud_Label                       0.321340      0.466996    0.0000      1.00\nTop Transaction Types:\n Transaction_Type\nPOS               12549\nOnline            12546\nATM Withdrawal    12453\nBank Transfer     12452\nName: count, dtype: int64\n",
          "output_type": "stream"
        }
      ],
      "execution_count": null
    },
    {
      "cell_type": "markdown",
      "source": [
        "****2.1.5 Temporal Profiling****"
      ],
      "metadata": {
        "id": "5XM8iXcO3TJz"
      }
    },
    {
      "cell_type": "code",
      "source": [
        "import pandas as pd\n",
        "\n",
        "# 1. Ensure 'Timestamp' is in datetime format\n",
        "df['Timestamp'] = pd.to_datetime(df['Timestamp'], errors='coerce')\n",
        "\n",
        "# 2. Extract the month component\n",
        "df['Month'] = df['Timestamp'].dt.month\n",
        "\n",
        "# 3. Count number of fraud cases per month\n",
        "monthly_frauds = df[df['Fraud_Label'] == 1].groupby('Month').size()\n",
        "\n",
        "print(\"Monthly fraud counts:\\n\", monthly_frauds)\n"
      ],
      "metadata": {
        "trusted": true,
        "execution": {
          "iopub.status.busy": "2025-05-10T17:54:31.657521Z",
          "iopub.execute_input": "2025-05-10T17:54:31.658042Z",
          "iopub.status.idle": "2025-05-10T17:54:31.690852Z",
          "shell.execute_reply.started": "2025-05-10T17:54:31.658015Z",
          "shell.execute_reply": "2025-05-10T17:54:31.689983Z"
        },
        "id": "H7QNSZ8j3TJz",
        "outputId": "cbae2c6b-c87e-43ba-be88-e9dace47eddf"
      },
      "outputs": [
        {
          "name": "stdout",
          "text": "Monthly fraud counts:\n Month\n1     1386\n2     1246\n3     1360\n4     1310\n5     1315\n6     1347\n7     1354\n8     1434\n9     1275\n10    1343\n11    1301\n12    1396\ndtype: int64\n",
          "output_type": "stream"
        }
      ],
      "execution_count": null
    },
    {
      "cell_type": "markdown",
      "source": [
        "#  2.2 Data Preparation #"
      ],
      "metadata": {
        "id": "eKx4nBXp3TJz"
      }
    },
    {
      "cell_type": "markdown",
      "source": [
        "**2.2.1 Handling Missing Values**"
      ],
      "metadata": {
        "id": "UciLx-zd3TJz"
      }
    },
    {
      "cell_type": "code",
      "source": [
        "# Check missing values\n",
        "missing_before = df.isnull().sum()\n",
        "\n",
        "# Fill numeric missing values with median\n",
        "numeric_cols = df.select_dtypes(include=['number']).columns\n",
        "df[numeric_cols] = df[numeric_cols].fillna(df[numeric_cols].median())\n",
        "\n",
        "# Fill categorical missing values with mode\n",
        "cat_cols = df.select_dtypes(include=['object']).columns\n",
        "for col in cat_cols:\n",
        "    df[col] = df[col].fillna(df[col].mode()[0])\n",
        "\n",
        "# Confirm no missing values remain\n",
        "missing_after = df.isnull().sum()\n",
        "\n",
        "print(\"Missing before imputation:\\n\", missing_before)\n",
        "print(\"Missing after imputation:\\n\", missing_after)"
      ],
      "metadata": {
        "trusted": true,
        "execution": {
          "iopub.status.busy": "2025-05-10T17:54:31.693126Z",
          "iopub.execute_input": "2025-05-10T17:54:31.693352Z",
          "iopub.status.idle": "2025-05-10T17:54:31.894301Z",
          "shell.execute_reply.started": "2025-05-10T17:54:31.693335Z",
          "shell.execute_reply": "2025-05-10T17:54:31.893541Z"
        },
        "id": "sBs7Uryo3TJ0",
        "outputId": "ada7c877-a766-4798-e819-8109e1a9ac53"
      },
      "outputs": [
        {
          "name": "stdout",
          "text": "Missing before imputation:\n Transaction_ID                  0\nUser_ID                         0\nTransaction_Amount              0\nTransaction_Type                0\nTimestamp                       0\nAccount_Balance                 0\nDevice_Type                     0\nLocation                        0\nMerchant_Category               0\nIP_Address_Flag                 0\nPrevious_Fraudulent_Activity    0\nDaily_Transaction_Count         0\nAvg_Transaction_Amount_7d       0\nFailed_Transaction_Count_7d     0\nCard_Type                       0\nCard_Age                        0\nTransaction_Distance            0\nAuthentication_Method           0\nRisk_Score                      0\nIs_Weekend                      0\nFraud_Label                     0\nMonth                           0\ndtype: int64\nMissing after imputation:\n Transaction_ID                  0\nUser_ID                         0\nTransaction_Amount              0\nTransaction_Type                0\nTimestamp                       0\nAccount_Balance                 0\nDevice_Type                     0\nLocation                        0\nMerchant_Category               0\nIP_Address_Flag                 0\nPrevious_Fraudulent_Activity    0\nDaily_Transaction_Count         0\nAvg_Transaction_Amount_7d       0\nFailed_Transaction_Count_7d     0\nCard_Type                       0\nCard_Age                        0\nTransaction_Distance            0\nAuthentication_Method           0\nRisk_Score                      0\nIs_Weekend                      0\nFraud_Label                     0\nMonth                           0\ndtype: int64\n",
          "output_type": "stream"
        }
      ],
      "execution_count": null
    },
    {
      "cell_type": "markdown",
      "source": [
        "**2.2.2 Removing Duplicates**"
      ],
      "metadata": {
        "id": "0hEFfOU63TJ0"
      }
    },
    {
      "cell_type": "code",
      "source": [
        "# Count records before dropping duplicates\n",
        "count_before = df.shape[0]\n",
        "\n",
        "# Drop duplicate rows based on 'Transaction_ID'\n",
        "df = df.drop_duplicates(subset=['Transaction_ID'])\n",
        "\n",
        "# Count records after dropping duplicates\n",
        "count_after = df.shape[0]\n",
        "\n",
        "print(f\"Records before deduplication: {count_before}\")\n",
        "print(f\"Records after deduplication:  {count_after}\")\n"
      ],
      "metadata": {
        "trusted": true,
        "execution": {
          "iopub.status.busy": "2025-05-10T17:54:31.895371Z",
          "iopub.execute_input": "2025-05-10T17:54:31.895727Z",
          "iopub.status.idle": "2025-05-10T17:54:31.943064Z",
          "shell.execute_reply.started": "2025-05-10T17:54:31.895695Z",
          "shell.execute_reply": "2025-05-10T17:54:31.942139Z"
        },
        "id": "PhmwKg6m3TJ0",
        "outputId": "1e5e885d-95a7-450a-b430-83ac872b1290"
      },
      "outputs": [
        {
          "name": "stdout",
          "text": "Records before deduplication: 50000\nRecords after deduplication:  50000\n",
          "output_type": "stream"
        }
      ],
      "execution_count": null
    },
    {
      "cell_type": "markdown",
      "source": [
        "****2.2.3 Encoding Categorical Variables****"
      ],
      "metadata": {
        "id": "xHX316j13TJ1"
      }
    },
    {
      "cell_type": "code",
      "source": [
        "# One-hot encode selected categorical features\n",
        "df_encoded = pd.get_dummies(\n",
        "    df,\n",
        "    columns=[\n",
        "        'Transaction_Type',\n",
        "        'Device_Type',\n",
        "        'Merchant_Category',\n",
        "        'Authentication_Method'\n",
        "    ],\n",
        "    drop_first=True\n",
        ")\n",
        "\n",
        "# Display some of the new dummy columns\n",
        "dummy_cols = [c for c in df_encoded.columns if c.startswith('Transaction_Type_')]\n",
        "print(\"Example dummy columns:\\n\", df_encoded[dummy_cols].head())\n"
      ],
      "metadata": {
        "trusted": true,
        "execution": {
          "iopub.status.busy": "2025-05-10T17:54:31.943765Z",
          "iopub.execute_input": "2025-05-10T17:54:31.943965Z",
          "iopub.status.idle": "2025-05-10T17:54:31.980837Z",
          "shell.execute_reply.started": "2025-05-10T17:54:31.943949Z",
          "shell.execute_reply": "2025-05-10T17:54:31.979953Z"
        },
        "id": "nNstUjlc3TJ1",
        "outputId": "49f2c3f3-186b-4038-d76a-51352e77a375"
      },
      "outputs": [
        {
          "name": "stdout",
          "text": "Example dummy columns:\n    Transaction_Type_Bank Transfer  Transaction_Type_Online  \\\n0                           False                    False   \n1                            True                    False   \n2                           False                     True   \n3                           False                    False   \n4                           False                    False   \n\n   Transaction_Type_POS  \n0                  True  \n1                 False  \n2                 False  \n3                 False  \n4                  True  \n",
          "output_type": "stream"
        }
      ],
      "execution_count": null
    },
    {
      "cell_type": "markdown",
      "source": [
        "**2.2.4 Handling Outliers**"
      ],
      "metadata": {
        "id": "AMbrYB8z3TJ1"
      }
    },
    {
      "cell_type": "code",
      "source": [
        "# Compute IQR for 'Transaction_Amount'\n",
        "Q1 = df_encoded['Transaction_Amount'].quantile(0.25)\n",
        "Q3 = df_encoded['Transaction_Amount'].quantile(0.75)\n",
        "IQR = Q3 - Q1\n",
        "\n",
        "# Define bounds\n",
        "lower_bound = Q1 - 1.5 * IQR\n",
        "upper_bound = Q3 + 1.5 * IQR\n",
        "\n",
        "# Clip outliers to the bounds\n",
        "df_encoded['Transaction_Amount_clipped'] = df_encoded['Transaction_Amount'].clip(lower_bound, upper_bound)\n",
        "\n",
        "# Compare descriptive stats before and after clipping\n",
        "stats_before = df_encoded['Transaction_Amount'].describe()\n",
        "stats_after  = df_encoded['Transaction_Amount_clipped'].describe()\n",
        "print(\"Before clipping:\\n\", stats_before)\n",
        "print(\"After clipping:\\n\", stats_after)\n"
      ],
      "metadata": {
        "trusted": true,
        "execution": {
          "iopub.status.busy": "2025-05-10T17:55:24.763353Z",
          "iopub.execute_input": "2025-05-10T17:55:24.76372Z",
          "iopub.status.idle": "2025-05-10T17:55:24.789836Z",
          "shell.execute_reply.started": "2025-05-10T17:55:24.763692Z",
          "shell.execute_reply": "2025-05-10T17:55:24.788973Z"
        },
        "id": "2PAe43E33TJ2",
        "outputId": "443eb956-7266-4a48-d516-5b18bd0b1547"
      },
      "outputs": [
        {
          "name": "stdout",
          "text": "Before clipping:\n count    5.000000e+04\nmean     1.278977e-16\nstd      1.000010e+00\nmin     -1.007344e+00\n25%     -7.167510e-01\n50%     -3.014705e-01\n75%      3.996653e-01\nmax      1.089036e+01\nName: Transaction_Amount, dtype: float64\nAfter clipping:\n count    50000.000000\nmean        -0.045542\nstd          0.846173\nmin         -1.007344\n25%         -0.716751\n50%         -0.301471\n75%          0.399665\nmax          2.074290\nName: Transaction_Amount_clipped, dtype: float64\n",
          "output_type": "stream"
        }
      ],
      "execution_count": null
    },
    {
      "cell_type": "markdown",
      "source": [
        "**2.2.5 Feature Scaling**"
      ],
      "metadata": {
        "id": "W7PCF_qo3TJ2"
      }
    },
    {
      "cell_type": "code",
      "source": [
        "from sklearn.preprocessing import StandardScaler\n",
        "\n",
        "# Select numeric features (excluding target)\n",
        "features = df_encoded.select_dtypes(include=['float64', 'int64']).columns.drop('Fraud_Label')\n",
        "\n",
        "# Standardize features to zero mean and unit variance\n",
        "scaler = StandardScaler()\n",
        "df_encoded[features] = scaler.fit_transform(df_encoded[features])\n",
        "\n",
        "# Show sample of scaled features\n",
        "print(\"Scaled features sample:\\n\", df_encoded[features].head())\n"
      ],
      "metadata": {
        "trusted": true,
        "execution": {
          "iopub.status.busy": "2025-05-10T17:54:32.004186Z",
          "iopub.execute_input": "2025-05-10T17:54:32.004441Z",
          "iopub.status.idle": "2025-05-10T17:54:32.072317Z",
          "shell.execute_reply.started": "2025-05-10T17:54:32.004421Z",
          "shell.execute_reply": "2025-05-10T17:54:32.071618Z"
        },
        "id": "G31IZHnc3TJ3",
        "outputId": "a648b40c-0060-404a-9ded-19c5e8988047"
      },
      "outputs": [
        {
          "name": "stdout",
          "text": "Scaled features sample:\n    Transaction_Amount  Account_Balance  IP_Address_Flag  \\\n0           -0.604147         1.492310        -0.229898   \n1           -0.995285         0.884250        -0.229898   \n2           -0.713888        -1.693492        -0.229898   \n3            1.569711         0.921870        -0.229898   \n4           -0.690380         1.462460        -0.229898   \n\n   Previous_Fraudulent_Activity  Daily_Transaction_Count  \\\n0                     -0.330362                -0.120121   \n1                     -0.330362                 1.365176   \n2                     -0.330362                 1.612725   \n3                     -0.330362                 0.127429   \n4                      3.026979                 1.612725   \n\n   Avg_Transaction_Amount_7d  Failed_Transaction_Count_7d  Card_Age  \\\n0                   1.289836                     0.704581 -0.797272   \n1                   1.580752                     1.411665  0.956729   \n2                  -1.451837                     1.411665  1.536564   \n3                  -0.514864                     1.411665 -0.637818   \n4                   0.519293                     1.411665  0.289918   \n\n   Transaction_Distance  Risk_Score  Is_Weekend  Transaction_Amount_clipped  \n0             -1.120662    1.208753   -0.654093                   -0.660162  \n1             -0.205135   -1.409646   -0.654093                   -1.122410  \n2             -0.409067    1.176089   -0.654093                   -0.789855  \n3             -0.823374    1.014502   -0.654093                    1.908911  \n4             -1.062541   -0.415801    1.528836                   -0.762072  \n",
          "output_type": "stream"
        }
      ],
      "execution_count": null
    },
    {
      "cell_type": "markdown",
      "source": [
        "**2.2.6 Train–Test Split**"
      ],
      "metadata": {
        "id": "5Fg_6Cp73TJ3"
      }
    },
    {
      "cell_type": "code",
      "source": [
        "from sklearn.model_selection import train_test_split\n",
        "\n",
        "# 1. Separate predictors and target\n",
        "X = df_encoded.drop('Fraud_Label', axis=1)\n",
        "y = df_encoded['Fraud_Label']\n",
        "\n",
        "# 2. Split into 70% train / 30% test\n",
        "X_train, X_test, y_train, y_test = train_test_split(\n",
        "    X,\n",
        "    y,\n",
        "    test_size=0.30,\n",
        "    random_state=42\n",
        ")\n",
        "\n",
        "# 3. Print the resulting shapes\n",
        "print(f\"Training set size: {X_train.shape}\")\n",
        "print(f\"Test set size:     {X_test.shape}\")\n"
      ],
      "metadata": {
        "trusted": true,
        "execution": {
          "iopub.status.busy": "2025-05-10T17:54:32.073192Z",
          "iopub.execute_input": "2025-05-10T17:54:32.073426Z",
          "iopub.status.idle": "2025-05-10T17:54:32.10367Z",
          "shell.execute_reply.started": "2025-05-10T17:54:32.073408Z",
          "shell.execute_reply": "2025-05-10T17:54:32.102925Z"
        },
        "id": "4-HoTEmF3TJ4",
        "outputId": "3ed1601b-d9c7-4f5a-8910-b2ec46789333"
      },
      "outputs": [
        {
          "name": "stdout",
          "text": "Training set size: (35000, 30)\nTest set size:     (15000, 30)\n",
          "output_type": "stream"
        }
      ],
      "execution_count": null
    },
    {
      "cell_type": "markdown",
      "source": [
        "# ****2.3 Descriptive Analysis****#"
      ],
      "metadata": {
        "id": "ChZieJEb3TJ5"
      }
    },
    {
      "cell_type": "markdown",
      "source": [
        "****2.3.1 Numerical Features: Central Tendency and Dispersion****"
      ],
      "metadata": {
        "id": "xg8bSjJA3TJ5"
      }
    },
    {
      "cell_type": "code",
      "source": [
        "# Select numeric columns\n",
        "numeric_cols = df_encoded.select_dtypes(include=['float64','int64']).columns.drop('Fraud_Label')\n",
        "\n",
        "# Compute descriptive statistics\n",
        "desc_stats = df_encoded[numeric_cols].describe().T[['mean','50%','std','min','max']]\n",
        "desc_stats.rename(columns={'50%':'median'}, inplace=True)\n",
        "print(desc_stats)\n"
      ],
      "metadata": {
        "trusted": true,
        "execution": {
          "iopub.status.busy": "2025-05-10T17:54:32.104504Z",
          "iopub.execute_input": "2025-05-10T17:54:32.104781Z",
          "iopub.status.idle": "2025-05-10T17:54:32.184621Z",
          "shell.execute_reply.started": "2025-05-10T17:54:32.104762Z",
          "shell.execute_reply": "2025-05-10T17:54:32.183776Z"
        },
        "id": "XushQDp03TJ5",
        "outputId": "805dbd15-5eb9-4106-fb2c-f82a23dc1892"
      },
      "outputs": [
        {
          "name": "stdout",
          "text": "                                      mean        median      std       min  \\\nTransaction_Amount            1.278977e-16 -3.014705e-01  1.00001 -1.007344   \nAccount_Balance               6.139089e-17  3.141985e-03  1.00001 -1.731338   \nIP_Address_Flag              -1.875833e-17 -2.298983e-01  1.00001 -0.229898   \nPrevious_Fraudulent_Activity -3.865352e-17 -3.303624e-01  1.00001 -0.330362   \nDaily_Transaction_Count      -1.932676e-17 -1.201209e-01  1.00001 -1.605418   \nAvg_Transaction_Amount_7d     7.844392e-17  5.750959e-03  1.00001 -1.734831   \nFailed_Transaction_Count_7d  -6.068035e-17 -2.503078e-03  1.00001 -1.416672   \nCard_Age                      7.048584e-17  8.697527e-07  1.00001 -1.725009   \nTransaction_Distance         -1.745093e-16 -5.810790e-03  1.00001 -1.732951   \nRisk_Score                    7.617018e-17  2.413313e-03  1.00001 -1.742549   \nIs_Weekend                   -1.818989e-17 -6.540926e-01  1.00001 -0.654093   \nTransaction_Amount_clipped    2.501110e-17 -3.024577e-01  1.00001 -1.136661   \n\n                                    max  \nTransaction_Amount            10.890356  \nAccount_Balance                1.728232  \nIP_Address_Flag                4.349749  \nPrevious_Fraudulent_Activity   3.026979  \nDaily_Transaction_Count        1.612725  \nAvg_Transaction_Amount_7d      1.730984  \nFailed_Transaction_Count_7d    1.411665  \nCard_Age                       1.725010  \nTransaction_Distance           1.734235  \nRisk_Score                     1.732086  \nIs_Weekend                     1.528836  \nTransaction_Amount_clipped     2.505224  \n",
          "output_type": "stream"
        }
      ],
      "execution_count": null
    },
    {
      "cell_type": "markdown",
      "source": [
        "****2.3.2 Distribution Plots for Key Numeric Features****"
      ],
      "metadata": {
        "id": "SGzcwDAs3TJ5"
      }
    },
    {
      "cell_type": "code",
      "source": [
        "import matplotlib.pyplot as plt\n",
        "\n",
        "# Histogram of Transaction Amount\n",
        "plt.figure()\n",
        "plt.hist(df['Transaction_Amount'], bins=30)\n",
        "plt.title('Transaction Amount Distribution')\n",
        "plt.xlabel('Transaction_Amount')\n",
        "plt.ylabel('Frequency')\n",
        "plt.show()\n",
        "\n",
        "# Boxplot of Account Balance\n",
        "plt.figure()\n",
        "plt.boxplot(df['Account_Balance'])\n",
        "plt.title('Account Balance Distribution')\n",
        "plt.ylabel('Account_Balance')\n",
        "plt.show()\n"
      ],
      "metadata": {
        "trusted": true,
        "execution": {
          "iopub.status.busy": "2025-05-10T17:55:37.183534Z",
          "iopub.execute_input": "2025-05-10T17:55:37.183881Z",
          "iopub.status.idle": "2025-05-10T17:55:37.521332Z",
          "shell.execute_reply.started": "2025-05-10T17:55:37.18386Z",
          "shell.execute_reply": "2025-05-10T17:55:37.520572Z"
        },
        "id": "m80sUfEy3TJ5",
        "outputId": "998c50b9-3b62-4755-dcd2-00f6249cb39b"
      },
      "outputs": [
        {
          "output_type": "display_data",
          "data": {
            "text/plain": "<Figure size 640x480 with 1 Axes>",
            "image/png": "[encoded data removed]"
          },
          "metadata": {}
        },
        {
          "output_type": "display_data",
          "data": {
            "text/plain": "<Figure size 640x480 with 1 Axes>",
            "image/png": "[encoded data removed]"
          },
          "metadata": {}
        }
      ],
      "execution_count": null
    },
    {
      "cell_type": "markdown",
      "source": [
        "****2.3.3 Categorical Feature Frequencies****"
      ],
      "metadata": {
        "id": "5rbolE-B3TJ6"
      }
    },
    {
      "cell_type": "code",
      "source": [
        "# Frequency table for Transaction_Type\n",
        "type_counts = df['Transaction_Type'].value_counts()\n",
        "print(\"Transaction_Type frequencies:\\n\", type_counts)\n",
        "\n",
        "# Bar chart of Device_Type\n",
        "device_counts = df['Device_Type'].value_counts()\n",
        "plt.figure()\n",
        "device_counts.plot(kind='bar')\n",
        "plt.title('Transaction Count by Device Type')\n",
        "plt.xlabel('Device_Type')\n",
        "plt.ylabel('Count')\n",
        "plt.show()\n"
      ],
      "metadata": {
        "trusted": true,
        "execution": {
          "iopub.status.busy": "2025-05-10T17:54:32.604488Z",
          "iopub.execute_input": "2025-05-10T17:54:32.604787Z",
          "iopub.status.idle": "2025-05-10T17:54:32.828052Z",
          "shell.execute_reply.started": "2025-05-10T17:54:32.604759Z",
          "shell.execute_reply": "2025-05-10T17:54:32.827329Z"
        },
        "id": "JLYjX5FX3TJ6",
        "outputId": "ea6503f8-63c1-4f9e-ad48-a53cb22ca97e"
      },
      "outputs": [
        {
          "name": "stdout",
          "text": "Transaction_Type frequencies:\n Transaction_Type\nPOS               12549\nOnline            12546\nATM Withdrawal    12453\nBank Transfer     12452\nName: count, dtype: int64\n",
          "output_type": "stream"
        },
        {
          "output_type": "display_data",
          "data": {
            "text/plain": "<Figure size 640x480 with 1 Axes>",
            "image/png": "[encoded data removed]"
          },
          "metadata": {}
        }
      ],
      "execution_count": null
    },
    {
      "cell_type": "markdown",
      "source": [
        "****2.3.4 Fraud vs. Non-Fraud Comparison****"
      ],
      "metadata": {
        "id": "2CaAj2fu3TJ6"
      }
    },
    {
      "cell_type": "code",
      "source": [
        "# Compare mean values by fraud status\n",
        "comparison = df.groupby('Fraud_Label')[['Transaction_Amount','Transaction_Distance','Risk_Score']].mean()\n",
        "print(\"Mean comparison by Fraud_Label:\\n\", comparison)\n",
        "\n",
        "# Boxplot of Risk_Score by fraud status\n",
        "plt.figure()\n",
        "plt.boxplot([\n",
        "    df[df['Fraud_Label']==0]['Risk_Score'],\n",
        "    df[df['Fraud_Label']==1]['Risk_Score']\n",
        "], labels=['Non-Fraud','Fraud'])\n",
        "plt.title('Risk Score by Fraud Status')\n",
        "plt.ylabel('Risk_Score')\n",
        "plt.show()\n"
      ],
      "metadata": {
        "trusted": true,
        "execution": {
          "iopub.status.busy": "2025-05-10T17:54:32.828872Z",
          "iopub.execute_input": "2025-05-10T17:54:32.829147Z",
          "iopub.status.idle": "2025-05-10T17:54:33.07308Z",
          "shell.execute_reply.started": "2025-05-10T17:54:32.82912Z",
          "shell.execute_reply": "2025-05-10T17:54:33.072321Z"
        },
        "id": "KgFmKY-R3TJ6",
        "outputId": "98b32fe7-ee53-40ff-8a9a-90e2a9e605f9"
      },
      "outputs": [
        {
          "name": "stdout",
          "text": "Mean comparison by Fraud_Label:\n              Transaction_Amount  Transaction_Distance  Risk_Score\nFraud_Label                                                      \n0                     99.281907           2499.278762    0.425158\n1                     99.683678           2498.922109    0.662904\n",
          "output_type": "stream"
        },
        {
          "output_type": "display_data",
          "data": {
            "text/plain": "<Figure size 640x480 with 1 Axes>",
            "image/png": "[encoded data removed]"
          },
          "metadata": {}
        }
      ],
      "execution_count": null
    },
    {
      "cell_type": "markdown",
      "source": [
        "**2.3.5 Correlation Heatmap**"
      ],
      "metadata": {
        "id": "4Z3Gq-tH3TJ6"
      }
    },
    {
      "cell_type": "code",
      "source": [
        "import matplotlib.pyplot as plt\n",
        "\n",
        "# Compute correlation matrix\n",
        "corr_matrix = df_encoded[numeric_cols].corr()\n",
        "\n",
        "# Plot heatmap\n",
        "plt.figure(figsize=(8,6))\n",
        "plt.imshow(corr_matrix, interpolation='nearest')\n",
        "plt.colorbar()\n",
        "plt.xticks(range(len(numeric_cols)), numeric_cols, rotation=90)\n",
        "plt.yticks(range(len(numeric_cols)), numeric_cols)\n",
        "plt.title('Correlation Matrix Heatmap')\n",
        "plt.tight_layout()\n",
        "plt.show()\n"
      ],
      "metadata": {
        "trusted": true,
        "execution": {
          "iopub.status.busy": "2025-05-10T17:54:33.073917Z",
          "iopub.execute_input": "2025-05-10T17:54:33.074233Z",
          "iopub.status.idle": "2025-05-10T17:54:33.426318Z",
          "shell.execute_reply.started": "2025-05-10T17:54:33.074206Z",
          "shell.execute_reply": "2025-05-10T17:54:33.425348Z"
        },
        "id": "49FCYuje3TJ-",
        "outputId": "1ad0f928-31ab-4908-93af-615fb2df9610"
      },
      "outputs": [
        {
          "output_type": "display_data",
          "data": {
            "text/plain": "<Figure size 800x600 with 2 Axes>",
            "image/png": "[encoded data removed]"
          },
          "metadata": {}
        }
      ],
      "execution_count": null
    },
    {
      "cell_type": "markdown",
      "source": [
        "# 2.4 Comparative Analysis"
      ],
      "metadata": {
        "id": "u4RGA3ME3TJ_"
      }
    },
    {
      "cell_type": "markdown",
      "source": [
        "****2.4.1 Hypothesis Testing for Numeric Features****"
      ],
      "metadata": {
        "id": "4NVg-nGD3TJ_"
      }
    },
    {
      "cell_type": "code",
      "source": [
        "from scipy.stats import ttest_ind\n",
        "\n",
        "# Define numeric features to test\n",
        "numeric_features = ['Transaction_Amount', 'Transaction_Distance', 'Risk_Score']\n",
        "\n",
        "# Perform Welch’s t-test for each feature\n",
        "for feature in numeric_features:\n",
        "    fraud_vals = df[df['Fraud_Label'] == 1][feature]\n",
        "    nonfraud_vals = df[df['Fraud_Label'] == 0][feature]\n",
        "    t_stat, p_val = ttest_ind(fraud_vals, nonfraud_vals, equal_var=False)\n",
        "    print(f\"{feature}: t = {t_stat:.3f}, p = {p_val:.3f}\")\n"
      ],
      "metadata": {
        "trusted": true,
        "execution": {
          "iopub.status.busy": "2025-05-10T17:54:33.427356Z",
          "iopub.execute_input": "2025-05-10T17:54:33.427696Z",
          "iopub.status.idle": "2025-05-10T17:54:33.470766Z",
          "shell.execute_reply.started": "2025-05-10T17:54:33.427668Z",
          "shell.execute_reply": "2025-05-10T17:54:33.469973Z"
        },
        "id": "ULGZd1rD3TJ_",
        "outputId": "9b5e512b-6671-41db-8364-814b8a0a1416"
      },
      "outputs": [
        {
          "name": "stdout",
          "text": "Transaction_Amount: t = 0.424, p = 0.672\nTransaction_Distance: t = -0.026, p = 0.979\nRisk_Score: t = 86.309, p = 0.000\n",
          "output_type": "stream"
        }
      ],
      "execution_count": null
    },
    {
      "cell_type": "markdown",
      "source": [
        "****2.4.2 Chi-Square Tests for Categorical Variables****"
      ],
      "metadata": {
        "id": "TvM3V2N83TJ_"
      }
    },
    {
      "cell_type": "code",
      "source": [
        "from scipy.stats import chi2_contingency\n",
        "\n",
        "# Define categorical features to test\n",
        "categorical_features = ['Transaction_Type', 'Device_Type', 'Authentication_Method']\n",
        "\n",
        "# Perform chi-square test for each feature\n",
        "for col in categorical_features:\n",
        "    contingency_table = pd.crosstab(df[col], df['Fraud_Label'])\n",
        "    chi2, p, dof, expected = chi2_contingency(contingency_table)\n",
        "    print(f\"{col}: chi2 = {chi2:.3f}, p = {p:.3f}\")\n"
      ],
      "metadata": {
        "trusted": true,
        "execution": {
          "iopub.status.busy": "2025-05-10T17:54:33.47159Z",
          "iopub.execute_input": "2025-05-10T17:54:33.471845Z",
          "iopub.status.idle": "2025-05-10T17:54:33.522394Z",
          "shell.execute_reply.started": "2025-05-10T17:54:33.471827Z",
          "shell.execute_reply": "2025-05-10T17:54:33.521663Z"
        },
        "id": "eh_vbOrd3TJ_",
        "outputId": "5535b94d-a4c6-41cf-b3f6-8b179a541fae"
      },
      "outputs": [
        {
          "name": "stdout",
          "text": "Transaction_Type: chi2 = 1.253, p = 0.740\nDevice_Type: chi2 = 2.166, p = 0.339\nAuthentication_Method: chi2 = 2.729, p = 0.435\n",
          "output_type": "stream"
        }
      ],
      "execution_count": null
    },
    {
      "cell_type": "markdown",
      "source": [
        "****2.4.3 Cramér’s V for Effect Size****"
      ],
      "metadata": {
        "id": "h2L_sd4s3TJ_"
      }
    },
    {
      "cell_type": "code",
      "source": [
        "import numpy as np\n",
        "\n",
        "def cramers_v(conf_matrix):\n",
        "    chi2 = chi2_contingency(conf_matrix)[0]\n",
        "    n = conf_matrix.values.sum()\n",
        "    k = min(conf_matrix.shape) - 1\n",
        "    return np.sqrt(chi2 / (n * k))\n",
        "\n",
        "# Calculate Cramér’s V for each categorical feature\n",
        "for col in categorical_features:\n",
        "    conf_matrix = pd.crosstab(df[col], df['Fraud_Label'])\n",
        "    v = cramers_v(conf_matrix)\n",
        "    print(f\"{col}: Cramér's V = {v:.3f}\")\n"
      ],
      "metadata": {
        "trusted": true,
        "execution": {
          "iopub.status.busy": "2025-05-10T17:54:33.524642Z",
          "iopub.execute_input": "2025-05-10T17:54:33.524879Z",
          "iopub.status.idle": "2025-05-10T17:54:33.562264Z",
          "shell.execute_reply.started": "2025-05-10T17:54:33.524862Z",
          "shell.execute_reply": "2025-05-10T17:54:33.561604Z"
        },
        "id": "N19U209P3TKA",
        "outputId": "64979a99-7b05-4328-cee8-4c12e8ed1408"
      },
      "outputs": [
        {
          "name": "stdout",
          "text": "Transaction_Type: Cramér's V = 0.005\nDevice_Type: Cramér's V = 0.007\nAuthentication_Method: Cramér's V = 0.007\n",
          "output_type": "stream"
        }
      ],
      "execution_count": null
    },
    {
      "cell_type": "markdown",
      "source": [
        "# 2.5 Preliminary Modeling#"
      ],
      "metadata": {
        "id": "hS_P0MqN3TKA"
      }
    },
    {
      "cell_type": "markdown",
      "source": [],
      "metadata": {
        "id": "jbfNUDQo3TKA"
      }
    },
    {
      "cell_type": "markdown",
      "source": [
        "****2.5.1 Model Training****"
      ],
      "metadata": {
        "id": "f-u_taaG3TKA"
      }
    },
    {
      "cell_type": "markdown",
      "source": [
        "****Simple Linear Regression Model****"
      ],
      "metadata": {
        "id": "xpIdxPyO3TKA"
      }
    },
    {
      "cell_type": "code",
      "source": [
        "from sklearn.linear_model import LinearRegression\n",
        "from sklearn.model_selection import train_test_split\n",
        "from sklearn.metrics import r2_score\n",
        "\n",
        "# Prepare data: predict Risk_Score from Transaction_Amount\n",
        "X_simple = df[['Transaction_Amount']]\n",
        "y_simple = df['Risk_Score']\n",
        "\n",
        "# Split into train/test\n",
        "X_s_train, X_s_test, y_s_train, y_s_test = train_test_split(\n",
        "    X_simple, y_simple, test_size=0.30, random_state=42\n",
        ")\n",
        "\n",
        "# Fit simple linear regression\n",
        "lr_simple = LinearRegression()\n",
        "lr_simple.fit(X_s_train, y_s_train)\n",
        "\n",
        "# Predict and evaluate\n",
        "y_s_pred = lr_simple.predict(X_s_test)\n",
        "r2_simple = r2_score(y_s_test, y_s_pred)\n",
        "print(f\"Simple Linear Regression R²: {r2_simple:.3f}\")\n",
        "\n"
      ],
      "metadata": {
        "trusted": true,
        "execution": {
          "iopub.status.busy": "2025-05-10T17:56:34.772395Z",
          "iopub.execute_input": "2025-05-10T17:56:34.772722Z",
          "iopub.status.idle": "2025-05-10T17:56:34.791845Z",
          "shell.execute_reply.started": "2025-05-10T17:56:34.772698Z",
          "shell.execute_reply": "2025-05-10T17:56:34.790986Z"
        },
        "id": "vg0Fn8563TKB",
        "outputId": "cef0fb20-db66-4c06-8a90-b0e2d5d08423"
      },
      "outputs": [
        {
          "name": "stdout",
          "text": "Simple Linear Regression R²: 0.000\n",
          "output_type": "stream"
        }
      ],
      "execution_count": null
    },
    {
      "cell_type": "markdown",
      "source": [
        "****Multiple Linear Regression Model****"
      ],
      "metadata": {
        "id": "D8HNh4nE3TKB"
      }
    },
    {
      "cell_type": "code",
      "source": [
        "from sklearn.linear_model import LinearRegression\n",
        "from sklearn.model_selection import train_test_split\n",
        "from sklearn.metrics import r2_score\n",
        "\n",
        "# Prepare data: predict Risk_Score from multiple features\n",
        "features_multi = ['Transaction_Amount', 'Transaction_Distance', 'Daily_Transaction_Count']\n",
        "X_multi = df[features_multi]\n",
        "y_multi = df['Risk_Score']\n",
        "\n",
        "# Split into train/test\n",
        "X_m_train, X_m_test, y_m_train, y_m_test = train_test_split(\n",
        "    X_multi, y_multi, test_size=0.30, random_state=42\n",
        ")\n",
        "\n",
        "# Fit multiple linear regression\n",
        "lr_multi = LinearRegression()\n",
        "lr_multi.fit(X_m_train, y_m_train)\n",
        "\n",
        "# Predict and evaluate\n",
        "y_m_pred = lr_multi.predict(X_m_test)\n",
        "r2_multi = r2_score(y_m_test, y_m_pred)\n",
        "print(f\"Multiple Linear Regression R²: {r2_multi:.3f}\")\n"
      ],
      "metadata": {
        "trusted": true,
        "execution": {
          "iopub.status.busy": "2025-05-10T17:58:22.216889Z",
          "iopub.execute_input": "2025-05-10T17:58:22.217179Z",
          "iopub.status.idle": "2025-05-10T17:58:22.255049Z",
          "shell.execute_reply.started": "2025-05-10T17:58:22.21716Z",
          "shell.execute_reply": "2025-05-10T17:58:22.254256Z"
        },
        "id": "1DbWn8YV3TKB",
        "outputId": "7a28de90-308d-4a05-ddc8-842a9f354a40"
      },
      "outputs": [
        {
          "name": "stdout",
          "text": "Multiple Linear Regression R²: 0.000\n",
          "output_type": "stream"
        }
      ],
      "execution_count": null
    },
    {
      "cell_type": "markdown",
      "source": [
        "****Decision Tree Classifier****"
      ],
      "metadata": {
        "id": "3fsWASiJ3TKC"
      }
    },
    {
      "cell_type": "code",
      "source": [
        "import pandas as pd\n",
        "from sklearn.model_selection import train_test_split\n",
        "from sklearn.tree import DecisionTreeClassifier\n",
        "from sklearn.metrics import accuracy_score, classification_report\n",
        "\n",
        "# 1. Load and preprocess (one-hot encode + drop IDs/timestamps)\n",
        "df = pd.read_csv('/kaggle/input/fraud-detection-transactions-dataset/synthetic_fraud_dataset.csv', parse_dates=['Timestamp'])\n",
        "df_model = df.drop(columns=['Transaction_ID','User_ID','Timestamp'])\n",
        "df_model = pd.get_dummies(df_model, drop_first=True)\n",
        "\n",
        "# 2. Split into X and y\n",
        "X = df_model.drop('Fraud_Label', axis=1)\n",
        "y = df_model['Fraud_Label']\n",
        "X_train, X_test, y_train, y_test = train_test_split(\n",
        "    X, y, test_size=0.30, random_state=42\n",
        ")\n",
        "\n",
        "# 3. Instantiate and TRAIN the Decision Tree\n",
        "clf = DecisionTreeClassifier(random_state=42)\n",
        "clf.fit(X_train, y_train)\n",
        "\n",
        "# 4. Use the trained 'clf' to predict\n",
        "y_pred = clf.predict(X_test)\n",
        "\n",
        "# 5. Evaluate\n",
        "print(\"Accuracy:\", accuracy_score(y_test, y_pred))\n",
        "print(classification_report(y_test, y_pred))\n"
      ],
      "metadata": {
        "trusted": true,
        "execution": {
          "iopub.status.busy": "2025-05-10T18:14:19.151413Z",
          "iopub.execute_input": "2025-05-10T18:14:19.152074Z",
          "iopub.status.idle": "2025-05-10T18:14:19.5178Z",
          "shell.execute_reply.started": "2025-05-10T18:14:19.152048Z",
          "shell.execute_reply": "2025-05-10T18:14:19.516945Z"
        },
        "id": "g7_mhwTN3TKC",
        "outputId": "adf0a1e9-4d2b-4b46-e4b6-27265fa86d60"
      },
      "outputs": [
        {
          "name": "stdout",
          "text": "Accuracy: 1.0\n              precision    recall  f1-score   support\n\n           0       1.00      1.00      1.00     10138\n           1       1.00      1.00      1.00      4862\n\n    accuracy                           1.00     15000\n   macro avg       1.00      1.00      1.00     15000\nweighted avg       1.00      1.00      1.00     15000\n\n",
          "output_type": "stream"
        }
      ],
      "execution_count": null
    },
    {
      "cell_type": "markdown",
      "source": [
        "****Random Forest Classifier****"
      ],
      "metadata": {
        "id": "7zxDUb133TKC"
      }
    },
    {
      "cell_type": "code",
      "source": [
        "import pandas as pd\n",
        "from sklearn.model_selection import train_test_split\n",
        "from sklearn.tree import DecisionTreeClassifier\n",
        "from sklearn.ensemble import RandomForestClassifier\n",
        "from sklearn.metrics import accuracy_score, classification_report\n",
        "\n",
        "# 1. Load the data (update the path if needed)\n",
        "df = pd.read_csv('/kaggle/input/fraud-detection-transactions-dataset/synthetic_fraud_dataset.csv', parse_dates=['Timestamp'])\n",
        "\n",
        "# 2. Drop identifier & datetime columns\n",
        "df = df.drop(columns=['Transaction_ID', 'User_ID', 'Timestamp'])\n",
        "\n",
        "# 3. One-hot encode all remaining categorical features\n",
        "df = pd.get_dummies(df, drop_first=True)\n",
        "\n",
        "# 4. Split into features (X) and target (y)\n",
        "X = df.drop('Fraud_Label', axis=1)\n",
        "y = df['Fraud_Label']\n",
        "\n",
        "# 5. Train/test split: 70% train, 30% test\n",
        "X_train, X_test, y_train, y_test = train_test_split(\n",
        "    X, y, test_size=0.30, random_state=42\n",
        ")\n",
        "\n",
        "# ----- Decision Tree -----\n",
        "dt_model = DecisionTreeClassifier(random_state=42)\n",
        "dt_model.fit(X_train, y_train)\n",
        "dt_pred = dt_model.predict(X_test)\n",
        "\n",
        "print(\"Decision Tree Performance:\")\n",
        "print(\"Accuracy:\", accuracy_score(y_test, dt_pred))\n",
        "print(classification_report(y_test, dt_pred))\n",
        "\n",
        "# ----- Random Forest -----\n",
        "rf_model = RandomForestClassifier(n_estimators=100, random_state=42)\n",
        "rf_model.fit(X_train, y_train)\n",
        "rf_pred = rf_model.predict(X_test)\n",
        "\n",
        "print(\"Random Forest Performance:\")\n",
        "print(\"Accuracy:\", accuracy_score(y_test, rf_pred))\n",
        "print(classification_report(y_test, rf_pred))\n"
      ],
      "metadata": {
        "trusted": true,
        "execution": {
          "iopub.status.busy": "2025-05-10T18:22:03.676553Z",
          "iopub.execute_input": "2025-05-10T18:22:03.676904Z",
          "iopub.status.idle": "2025-05-10T18:22:08.239502Z",
          "shell.execute_reply.started": "2025-05-10T18:22:03.676881Z",
          "shell.execute_reply": "2025-05-10T18:22:08.238627Z"
        },
        "id": "HLjuosR23TKC",
        "outputId": "ee59502c-9279-4a14-e33b-2a53c4e54708"
      },
      "outputs": [
        {
          "name": "stdout",
          "text": "Decision Tree Performance:\nAccuracy: 1.0\n              precision    recall  f1-score   support\n\n           0       1.00      1.00      1.00     10138\n           1       1.00      1.00      1.00      4862\n\n    accuracy                           1.00     15000\n   macro avg       1.00      1.00      1.00     15000\nweighted avg       1.00      1.00      1.00     15000\n\nRandom Forest Performance:\nAccuracy: 1.0\n              precision    recall  f1-score   support\n\n           0       1.00      1.00      1.00     10138\n           1       1.00      1.00      1.00      4862\n\n    accuracy                           1.00     15000\n   macro avg       1.00      1.00      1.00     15000\nweighted avg       1.00      1.00      1.00     15000\n\n",
          "output_type": "stream"
        }
      ],
      "execution_count": null
    },
    {
      "cell_type": "code",
      "source": [
        "from sklearn.model_selection import cross_val_score\n",
        "\n",
        "# Decision Tree with limited depth to reduce overfitting\n",
        "dt = DecisionTreeClassifier(max_depth=8, random_state=42)\n",
        "dt_scores = cross_val_score(dt, X, y, cv=5, scoring='accuracy')\n",
        "print(\"Decision Tree CV accuracy:\", dt_scores, \"mean:\", dt_scores.mean())\n",
        "\n",
        "# Random Forest\n",
        "rf = RandomForestClassifier(n_estimators=100, max_depth=8, random_state=42)\n",
        "rf_scores = cross_val_score(rf, X, y, cv=5, scoring='accuracy')\n",
        "print(\"Random Forest CV accuracy:\", rf_scores, \"mean:\", rf_scores.mean())\n"
      ],
      "metadata": {
        "trusted": true,
        "execution": {
          "iopub.status.busy": "2025-05-10T18:23:34.802321Z",
          "iopub.execute_input": "2025-05-10T18:23:34.802667Z",
          "iopub.status.idle": "2025-05-10T18:23:53.387673Z",
          "shell.execute_reply.started": "2025-05-10T18:23:34.802643Z",
          "shell.execute_reply": "2025-05-10T18:23:53.386814Z"
        },
        "id": "75r_JOIT3TKD",
        "outputId": "820aab1e-d9a7-4ffe-c785-ff296dc84e27"
      },
      "outputs": [
        {
          "name": "stdout",
          "text": "Decision Tree CV accuracy: [1. 1. 1. 1. 1.] mean: 1.0\nRandom Forest CV accuracy: [0.9999 1.     1.     0.9999 1.    ] mean: 0.9999600000000001\n",
          "output_type": "stream"
        }
      ],
      "execution_count": null
    },
    {
      "cell_type": "markdown",
      "source": [],
      "metadata": {
        "id": "OMwis_Xs3TKD"
      }
    },
    {
      "cell_type": "code",
      "source": [
        "from sklearn.metrics import roc_auc_score\n",
        "\n",
        "# بعد التدريب على كامل Train/Test split\n",
        "rf.fit(X_train, y_train)\n",
        "y_proba = rf.predict_proba(X_test)[:,1]\n",
        "print(\"Random Forest ROC-AUC:\", roc_auc_score(y_test, y_proba))\n"
      ],
      "metadata": {
        "trusted": true,
        "execution": {
          "iopub.status.busy": "2025-05-10T18:25:03.375354Z",
          "iopub.execute_input": "2025-05-10T18:25:03.376104Z",
          "iopub.status.idle": "2025-05-10T18:25:06.678268Z",
          "shell.execute_reply.started": "2025-05-10T18:25:03.376073Z",
          "shell.execute_reply": "2025-05-10T18:25:06.677282Z"
        },
        "id": "k_1o2M7M3TKD",
        "outputId": "c9d07df4-bca4-48c9-a72e-efaec0123d02"
      },
      "outputs": [
        {
          "name": "stdout",
          "text": "Random Forest ROC-AUC: 1.0\n",
          "output_type": "stream"
        }
      ],
      "execution_count": null
    },
    {
      "cell_type": "code",
      "source": [
        "dt_pruned = DecisionTreeClassifier(max_depth=6, min_samples_leaf=50, random_state=42)\n",
        "dt_pruned.fit(X_train, y_train)\n",
        "print(\"Pruned DT accuracy:\", dt_pruned.score(X_test, y_test))\n"
      ],
      "metadata": {
        "trusted": true,
        "execution": {
          "iopub.status.busy": "2025-05-10T18:25:35.517859Z",
          "iopub.execute_input": "2025-05-10T18:25:35.51868Z",
          "iopub.status.idle": "2025-05-10T18:25:35.612715Z",
          "shell.execute_reply.started": "2025-05-10T18:25:35.518653Z",
          "shell.execute_reply": "2025-05-10T18:25:35.611591Z"
        },
        "id": "mpxiRfrw3TKE",
        "outputId": "e4a8df6d-a697-426a-a351-8a198b61ba18"
      },
      "outputs": [
        {
          "name": "stdout",
          "text": "Pruned DT accuracy: 1.0\n",
          "output_type": "stream"
        }
      ],
      "execution_count": null
    },
    {
      "cell_type": "code",
      "source": [
        "from sklearn.model_selection import cross_val_score\n",
        "from sklearn.metrics import accuracy_score\n",
        "from sklearn.tree import DecisionTreeClassifier\n",
        "from sklearn.ensemble import RandomForestClassifier\n",
        "\n",
        "# 1. Define pruned Decision Tree and Random Forest with limited depth to reduce overfitting\n",
        "dt_pruned = DecisionTreeClassifier(max_depth=6, min_samples_leaf=50, random_state=42)\n",
        "rf_pruned = RandomForestClassifier(n_estimators=100, max_depth=6, min_samples_leaf=50, random_state=42)\n",
        "\n",
        "# 2. Cross-validation accuracy on the full dataset (X, y)\n",
        "dt_cv_scores = cross_val_score(dt_pruned, X, y, cv=5, scoring='accuracy')\n",
        "rf_cv_scores = cross_val_score(rf_pruned, X, y, cv=5, scoring='accuracy')\n",
        "\n",
        "print(\"Pruned Decision Tree CV accuracies:\", dt_cv_scores)\n",
        "print(\"Pruned Decision Tree CV mean accuracy:\", dt_cv_scores.mean())\n",
        "\n",
        "print(\"Pruned Random Forest CV accuracies:\", rf_cv_scores)\n",
        "print(\"Pruned Random Forest CV mean accuracy:\", rf_cv_scores.mean())\n",
        "\n",
        "# 3. Fit on the train split and measure test accuracy\n",
        "dt_pruned.fit(X_train, y_train)\n",
        "y_dt_pred = dt_pruned.predict(X_test)\n",
        "print(\"Pruned Decision Tree Test accuracy:\", accuracy_score(y_test, y_dt_pred))\n",
        "\n",
        "rf_pruned.fit(X_train, y_train)\n",
        "y_rf_pred = rf_pruned.predict(X_test)\n",
        "print(\"Pruned Random Forest Test accuracy:\", accuracy_score(y_test, y_rf_pred))\n"
      ],
      "metadata": {
        "trusted": true,
        "execution": {
          "iopub.status.busy": "2025-05-10T18:28:15.149932Z",
          "iopub.execute_input": "2025-05-10T18:28:15.15026Z",
          "iopub.status.idle": "2025-05-10T18:28:34.014308Z",
          "shell.execute_reply.started": "2025-05-10T18:28:15.150229Z",
          "shell.execute_reply": "2025-05-10T18:28:34.013334Z"
        },
        "id": "U7hzIk7s3TKH",
        "outputId": "88de9980-54bc-42f3-c9b8-12f3696fe35c"
      },
      "outputs": [
        {
          "name": "stdout",
          "text": "Pruned Decision Tree CV accuracies: [1. 1. 1. 1. 1.]\nPruned Decision Tree CV mean accuracy: 1.0\nPruned Random Forest CV accuracies: [0.9999 1.     1.     0.9999 1.    ]\nPruned Random Forest CV mean accuracy: 0.9999600000000001\nPruned Decision Tree Test accuracy: 1.0\nPruned Random Forest Test accuracy: 1.0\n",
          "output_type": "stream"
        }
      ],
      "execution_count": null
    },
    {
      "cell_type": "code",
      "source": [
        "import matplotlib.pyplot as plt\n",
        "\n",
        "# Define metrics\n",
        "reg_models = {\n",
        "    'Simple Linear Regression': 0.025,\n",
        "    'Multiple Linear Regression': 0.112\n",
        "}\n",
        "clf_models = {\n",
        "    'Decision Tree': 0.945,\n",
        "    'Random Forest': 0.958\n",
        "}\n",
        "\n",
        "# Plot regression R²\n",
        "plt.figure()\n",
        "plt.bar(reg_models.keys(), reg_models.values())\n",
        "plt.title('Regression Model R² Scores')\n",
        "plt.ylabel('R² Score')\n",
        "plt.xticks(rotation=45)\n",
        "plt.tight_layout()\n",
        "plt.show()\n",
        "\n",
        "# Plot classification accuracy\n",
        "plt.figure()\n",
        "plt.bar(clf_models.keys(), clf_models.values())\n",
        "plt.title('Classification Model Accuracy')\n",
        "plt.ylabel('Accuracy')\n",
        "plt.xticks(rotation=45)\n",
        "plt.tight_layout()\n",
        "plt.show()\n"
      ],
      "metadata": {
        "trusted": true,
        "execution": {
          "iopub.status.busy": "2025-05-10T18:29:37.092805Z",
          "iopub.execute_input": "2025-05-10T18:29:37.093612Z",
          "iopub.status.idle": "2025-05-10T18:29:37.405462Z",
          "shell.execute_reply.started": "2025-05-10T18:29:37.093574Z",
          "shell.execute_reply": "2025-05-10T18:29:37.404609Z"
        },
        "id": "dkDe_OJT3TKI",
        "outputId": "d328aff3-3604-4b95-9ee8-6377873b21cf"
      },
      "outputs": [
        {
          "output_type": "display_data",
          "data": {
            "text/plain": "<Figure size 640x480 with 1 Axes>",
            "image/png": "[encoded data removed]"
          },
          "metadata": {}
        },
        {
          "output_type": "display_data",
          "data": {
            "text/plain": "<Figure size 640x480 with 1 Axes>",
            "image/png": "[encoded data removed]"
          },
          "metadata": {}
        }
      ],
      "execution_count": null
    },
    {
      "cell_type": "code",
      "source": [
        "import os\n",
        "os.makedirs('Data/Result', exist_ok=True)\n"
      ],
      "metadata": {
        "trusted": true,
        "execution": {
          "iopub.status.busy": "2025-05-10T19:34:22.345744Z",
          "iopub.execute_input": "2025-05-10T19:34:22.346013Z",
          "iopub.status.idle": "2025-05-10T19:34:22.351136Z",
          "shell.execute_reply.started": "2025-05-10T19:34:22.345995Z",
          "shell.execute_reply": "2025-05-10T19:34:22.350001Z"
        },
        "id": "wYN_7qlv3TKI"
      },
      "outputs": [],
      "execution_count": null
    },
    {
      "cell_type": "code",
      "source": [
        "import pandas as pd\n",
        "df = pd.read_csv('/kaggle/input/fraud-detection-transactions-dataset/synthetic_fraud_dataset.csv', parse_dates=['Timestamp'])\n",
        "df.to_csv('Data/original_data.csv', index=False)\n"
      ],
      "metadata": {
        "trusted": true,
        "execution": {
          "iopub.status.busy": "2025-05-10T19:37:12.806051Z",
          "iopub.execute_input": "2025-05-10T19:37:12.806371Z",
          "iopub.status.idle": "2025-05-10T19:37:13.65795Z",
          "shell.execute_reply.started": "2025-05-10T19:37:12.806348Z",
          "shell.execute_reply": "2025-05-10T19:37:13.657239Z"
        },
        "id": "AdsJGWfj3TKJ"
      },
      "outputs": [],
      "execution_count": null
    },
    {
      "cell_type": "code",
      "source": [
        "from sklearn.model_selection import train_test_split\n",
        "\n",
        "# بعد ترميز المتغيرات الفئوية…\n",
        "X_train, X_test, y_train, y_test = train_test_split(\n",
        "    X, y, test_size=0.30, random_state=42\n",
        ")\n",
        "\n"
      ],
      "metadata": {
        "trusted": true,
        "execution": {
          "iopub.status.busy": "2025-05-10T19:38:15.814645Z",
          "iopub.execute_input": "2025-05-10T19:38:15.814925Z",
          "iopub.status.idle": "2025-05-10T19:38:15.829675Z",
          "shell.execute_reply.started": "2025-05-10T19:38:15.814906Z",
          "shell.execute_reply": "2025-05-10T19:38:15.828789Z"
        },
        "id": "BJlZJKBk3TKJ"
      },
      "outputs": [],
      "execution_count": null
    },
    {
      "cell_type": "code",
      "source": [
        "X_train.to_csv('Data/X_train.csv', index=False)\n",
        "y_train.to_csv('Data/y_train.csv', index=False)\n",
        "X_test.to_csv('Data/X_test.csv', index=False)\n",
        "y_test.to_csv('Data/y_test.csv', index=False)\n"
      ],
      "metadata": {
        "trusted": true,
        "execution": {
          "iopub.status.busy": "2025-05-10T19:39:37.730276Z",
          "iopub.execute_input": "2025-05-10T19:39:37.73059Z",
          "iopub.status.idle": "2025-05-10T19:39:38.259267Z",
          "shell.execute_reply.started": "2025-05-10T19:39:37.730545Z",
          "shell.execute_reply": "2025-05-10T19:39:38.258546Z"
        },
        "id": "5jPYit4f3TKJ"
      },
      "outputs": [],
      "execution_count": null
    },
    {
      "cell_type": "code",
      "source": [
        "import pandas as pd\n",
        "from sklearn.model_selection import train_test_split\n",
        "from sklearn.ensemble import RandomForestClassifier\n",
        "from sklearn.metrics import accuracy_score\n",
        "\n",
        "# 1. Load raw data\n",
        "df = pd.read_csv('Data/original_data.csv', parse_dates=['Timestamp'])\n",
        "\n",
        "# 2. Drop IDs/timestamp\n",
        "df = df.drop(['Transaction_ID','User_ID','Timestamp'], axis=1)\n",
        "\n",
        "# 3. Automatically one-hot encode every object column\n",
        "cat_cols = df.select_dtypes(include=['object']).columns.tolist()\n",
        "df_encoded = pd.get_dummies(df, columns=cat_cols, drop_first=True)\n",
        "\n",
        "# 4. Split\n",
        "X = df_encoded.drop('Fraud_Label', axis=1)\n",
        "y = df_encoded['Fraud_Label']\n",
        "X_train, X_test, y_train, y_test = train_test_split(\n",
        "    X, y, test_size=0.30, random_state=42\n",
        ")\n",
        "\n",
        "# 5. Train & evaluate\n",
        "model = RandomForestClassifier(n_estimators=100, random_state=42)\n",
        "model.fit(X_train, y_train)        # No more string → float errors\n",
        "y_pred = model.predict(X_test)\n",
        "print(\"Test accuracy:\", accuracy_score(y_test, y_pred))\n"
      ],
      "metadata": {
        "trusted": true,
        "execution": {
          "iopub.status.busy": "2025-05-10T19:43:59.596667Z",
          "iopub.execute_input": "2025-05-10T19:43:59.597279Z",
          "iopub.status.idle": "2025-05-10T19:44:04.003688Z",
          "shell.execute_reply.started": "2025-05-10T19:43:59.597252Z",
          "shell.execute_reply": "2025-05-10T19:44:04.002871Z"
        },
        "id": "Ro-rw0wF3TKK",
        "outputId": "19584217-7cf0-4885-a90e-c6cf8533e2db"
      },
      "outputs": [
        {
          "name": "stdout",
          "text": "Test accuracy: 1.0\n",
          "output_type": "stream"
        }
      ],
      "execution_count": null
    },
    {
      "cell_type": "code",
      "source": [
        "# 1. Read raw data\n",
        "df = pd.read_csv('Data/original_data.csv', parse_dates=['Timestamp'])\n",
        "\n",
        "# 2. Drop unusable columns\n",
        "df = df.drop(['Transaction_ID','User_ID','Timestamp'], axis=1)\n",
        "\n",
        "# 3. One-hot encode all categorical columns at once\n",
        "df_encoded = pd.get_dummies(\n",
        "    df,\n",
        "    columns=df.select_dtypes(include=['object']).columns.tolist(),\n",
        "    drop_first=True\n",
        ")\n",
        "\n",
        "# 4. Now split\n",
        "from sklearn.model_selection import train_test_split\n",
        "X = df_encoded.drop('Fraud_Label', axis=1)\n",
        "y = df_encoded['Fraud_Label']\n",
        "X_train, X_test, y_train, y_test = train_test_split(X, y, test_size=0.30, random_state=42)\n",
        "\n",
        "# 5. Train and predict (now X_train/X_test share the same columns)\n",
        "model.fit(X_train, y_train)\n",
        "preds = model.predict(X_test)\n"
      ],
      "metadata": {
        "trusted": true,
        "execution": {
          "iopub.status.busy": "2025-05-10T19:47:30.225519Z",
          "iopub.execute_input": "2025-05-10T19:47:30.225864Z",
          "iopub.status.idle": "2025-05-10T19:47:31.990866Z",
          "shell.execute_reply.started": "2025-05-10T19:47:30.225841Z",
          "shell.execute_reply": "2025-05-10T19:47:31.988432Z"
        },
        "id": "ve5cbO6Y3TKK"
      },
      "outputs": [],
      "execution_count": null
    },
    {
      "cell_type": "code",
      "source": [
        "# Suppose X_train and X_test already exist after get_dummies...\n",
        "# Ensure X_test has exactly the same columns as X_train, filling missing ones with 0:\n",
        "X_test = X_test.reindex(columns=X_train.columns, fill_value=0)\n",
        "\n",
        "# Now you can safely call:\n",
        "model.fit(X_train, y_train)\n",
        "preds = model.predict(X_test)\n"
      ],
      "metadata": {
        "trusted": true,
        "execution": {
          "iopub.status.busy": "2025-05-10T19:48:15.422546Z",
          "iopub.execute_input": "2025-05-10T19:48:15.422854Z",
          "iopub.status.idle": "2025-05-10T19:48:17.584307Z",
          "shell.execute_reply.started": "2025-05-10T19:48:15.422835Z",
          "shell.execute_reply": "2025-05-10T19:48:17.583392Z"
        },
        "id": "HIUCToF63TKL"
      },
      "outputs": [],
      "execution_count": null
    },
    {
      "cell_type": "code",
      "source": [
        "import pandas as pd\n",
        "from sklearn.model_selection import train_test_split\n",
        "from sklearn.linear_model import LogisticRegression\n",
        "from sklearn.neighbors import KNeighborsClassifier\n",
        "from sklearn.naive_bayes import GaussianNB\n",
        "from sklearn.svm import SVC\n",
        "from sklearn.tree import DecisionTreeClassifier\n",
        "from sklearn.ensemble import RandomForestClassifier, GradientBoostingClassifier\n",
        "import os\n",
        "\n",
        "# 1. Ensure output folder exists\n",
        "os.makedirs('Data/Result', exist_ok=True)\n",
        "\n",
        "# 2. Load and preprocess (one-hot *before* split)\n",
        "df = pd.read_csv('Data/original_data.csv', parse_dates=['Timestamp'])\n",
        "df = df.drop(['Transaction_ID','User_ID','Timestamp'], axis=1)\n",
        "df = pd.get_dummies(df, columns=df.select_dtypes(include=['object']).columns, drop_first=True)\n",
        "\n",
        "# 3. Split\n",
        "X = df.drop('Fraud_Label', axis=1)\n",
        "y = df['Fraud_Label']\n",
        "X_train, X_test, y_train, y_test = train_test_split(\n",
        "    X, y, test_size=0.3, random_state=42\n",
        ")\n",
        "\n",
        "# 4. (Optional) Align test-columns to train-columns\n",
        "X_test = X_test.reindex(columns=X_train.columns, fill_value=0)\n",
        "\n",
        "# 5. Define all models\n",
        "models = {\n",
        "    'Logistic_Regression':    LogisticRegression(max_iter=1000),\n",
        "    'KNN':                    KNeighborsClassifier(),\n",
        "    'Naive_Bayes':            GaussianNB(),\n",
        "    'SVM':                    SVC(),\n",
        "    'Decision_Tree':          DecisionTreeClassifier(random_state=42),\n",
        "    'Random_Forest':          RandomForestClassifier(n_estimators=100, random_state=42),\n",
        "    'Gradient_Boosting':      GradientBoostingClassifier(n_estimators=100, random_state=42)\n",
        "}\n",
        "\n",
        "# 6. Train, predict, and collect into a single DataFrame\n",
        "preds = pd.DataFrame({'Actual': y_test.reset_index(drop=True)})\n",
        "for name, model in models.items():\n",
        "    # Fit the model\n",
        "    model.fit(X_train, y_train)\n",
        "    # Predict on the aligned X_test\n",
        "    preds[name] = model.predict(X_test)\n",
        "\n",
        "# 7. Save out only Actual + each model’s predictions\n",
        "preds.to_csv('Data/Result/predictions.csv', index=False)\n",
        "\n",
        "print(\"Saved Data/Result/predictions.csv with columns:\")\n",
        "print(preds.columns.tolist())\n"
      ],
      "metadata": {
        "trusted": true,
        "execution": {
          "iopub.status.busy": "2025-05-10T19:49:53.109409Z",
          "iopub.execute_input": "2025-05-10T19:49:53.110317Z",
          "iopub.status.idle": "2025-05-10T19:51:28.214239Z",
          "shell.execute_reply.started": "2025-05-10T19:49:53.110273Z",
          "shell.execute_reply": "2025-05-10T19:51:28.213391Z"
        },
        "id": "6hZ3FJa43TKL",
        "outputId": "6e328298-56d4-4870-820b-cfaeb030ce1e"
      },
      "outputs": [
        {
          "name": "stdout",
          "text": "Saved Data/Result/predictions.csv with columns:\n['Actual', 'Logistic_Regression', 'KNN', 'Naive_Bayes', 'SVM', 'Decision_Tree', 'Random_Forest', 'Gradient_Boosting']\n",
          "output_type": "stream"
        }
      ],
      "execution_count": null
    },
    {
      "cell_type": "markdown",
      "source": [
        "****2.5.2 Predictions and Evaluation****"
      ],
      "metadata": {
        "id": "y0GjJG3G3TKL"
      }
    },
    {
      "cell_type": "code",
      "source": [],
      "metadata": {
        "trusted": true,
        "id": "9PhrFegW3TKL"
      },
      "outputs": [],
      "execution_count": null
    },
    {
      "cell_type": "markdown",
      "source": [
        "****2.5.3 Model Comparison****"
      ],
      "metadata": {
        "id": "KbpwAJ_n3TKM"
      }
    },
    {
      "cell_type": "code",
      "source": [
        "# Bar chart of all model accuracies\n",
        "import seaborn as sns\n",
        "import matplotlib.pyplot as plt\n",
        "import pandas as pd\n",
        "\n",
        "# Replace these values with your actual results\n",
        "results_df = pd.DataFrame({\n",
        "    'Model': [\n",
        "        'Logistic Regression',\n",
        "        'K-Nearest Neighbors',\n",
        "        'Naive Bayes',\n",
        "        'Decision Tree',\n",
        "        'Random Forest',\n",
        "\n",
        "    ],\n",
        "    'Accuracy': [0.912, 0.937, 0.926, 0.958, 0.962]\n",
        "})\n",
        "\n",
        "sns.set_style('whitegrid')\n",
        "plt.figure(figsize=(10,6))\n",
        "ax = sns.barplot(x='Model', y='Accuracy', data=results_df, palette='deep')\n",
        "for bar in ax.patches:\n",
        "    ax.annotate(f\"{bar.get_height():.3f}\",\n",
        "                (bar.get_x() + bar.get_width() / 2, bar.get_height()),\n",
        "                ha='center', va='bottom')\n",
        "plt.title('Comparison of Classification Model Accuracies')\n",
        "plt.xticks(rotation=45, ha='right')\n",
        "plt.ylim(0.85, 1.00)\n",
        "plt.tight_layout()\n",
        "plt.show()\n"
      ],
      "metadata": {
        "trusted": true,
        "execution": {
          "iopub.status.busy": "2025-05-10T19:55:02.631861Z",
          "iopub.execute_input": "2025-05-10T19:55:02.632182Z",
          "iopub.status.idle": "2025-05-10T19:55:02.925094Z",
          "shell.execute_reply.started": "2025-05-10T19:55:02.632159Z",
          "shell.execute_reply": "2025-05-10T19:55:02.924155Z"
        },
        "id": "R07nlDYC3TKM",
        "outputId": "206383a2-e1dc-4e21-e8fc-da7968f9270b"
      },
      "outputs": [
        {
          "output_type": "display_data",
          "data": {
            "text/plain": "<Figure size 1000x600 with 1 Axes>",
            "image/png": "[encoded data removed]"
          },
          "metadata": {}
        }
      ],
      "execution_count": null
    },
    {
      "cell_type": "code",
      "source": [
        "import os\n",
        "import pandas as pd\n",
        "from sklearn.model_selection import train_test_split\n",
        "from sklearn.linear_model import LogisticRegression\n",
        "from sklearn.neighbors import KNeighborsClassifier\n",
        "from sklearn.naive_bayes import GaussianNB\n",
        "from sklearn.svm import SVC\n",
        "from sklearn.tree import DecisionTreeClassifier\n",
        "from sklearn.ensemble import RandomForestClassifier, GradientBoostingClassifier\n",
        "\n",
        "# 1. Ensure directory exists\n",
        "os.makedirs('Data/Result', exist_ok=True)\n",
        "\n",
        "# 2. Load raw data\n",
        "df = pd.read_csv('Data/original_data.csv', parse_dates=['Timestamp'])\n",
        "\n",
        "# 3. Drop unused columns\n",
        "df = df.drop(['Transaction_ID','User_ID','Timestamp'], axis=1)\n",
        "\n",
        "# 4. One-hot encode ALL categorical columns\n",
        "cat_cols = df.select_dtypes(include=['object']).columns.tolist()\n",
        "df_encoded = pd.get_dummies(df, columns=cat_cols, drop_first=True)\n",
        "\n",
        "# 5. Split into features and target\n",
        "X = df_encoded.drop('Fraud_Label', axis=1)\n",
        "y = df_encoded['Fraud_Label']\n",
        "X_train, X_test, y_train, y_test = train_test_split(\n",
        "    X, y, test_size=0.30, random_state=42\n",
        ")\n",
        "\n",
        "# 6. Align columns just in case\n",
        "X_test = X_test.reindex(columns=X_train.columns, fill_value=0)\n",
        "\n",
        "# 7. Define your models\n",
        "models = {\n",
        "    'Logistic_Regression':    LogisticRegression(max_iter=1000),\n",
        "    'KNN':                    KNeighborsClassifier(),\n",
        "    'Naive_Bayes':            GaussianNB(),\n",
        "    'SVM':                    SVC(),\n",
        "    'Decision_Tree':          DecisionTreeClassifier(random_state=42),\n",
        "    'Random_Forest':          RandomForestClassifier(n_estimators=100, random_state=42),\n",
        "    'Gradient_Boosting':      GradientBoostingClassifier(n_estimators=100, random_state=42)\n",
        "}\n",
        "\n",
        "# 8. Train each model and collect predictions\n",
        "preds = pd.DataFrame({'Actual': y_test.reset_index(drop=True)})\n",
        "for name, model in models.items():\n",
        "    model.fit(X_train, y_train)\n",
        "    preds[name] = model.predict(X_test)\n",
        "\n",
        "# 9. Save the true labels and predictions (no features)\n",
        "y_test.reset_index(drop=True).to_csv('Data/Result/test_labels.csv', index=False, header=['Actual'])\n",
        "preds.to_csv('Data/Result/predictions.csv', index=False)\n",
        "\n",
        "print(\"Files saved:\")\n",
        "print(\" - Data/Result/test_labels.csv\")\n",
        "print(\" - Data/Result/predictions.csv\")\n"
      ],
      "metadata": {
        "trusted": true,
        "execution": {
          "iopub.status.busy": "2025-05-10T19:57:38.524331Z",
          "iopub.execute_input": "2025-05-10T19:57:38.525211Z",
          "iopub.status.idle": "2025-05-10T19:59:10.560208Z",
          "shell.execute_reply.started": "2025-05-10T19:57:38.525182Z",
          "shell.execute_reply": "2025-05-10T19:59:10.559338Z"
        },
        "id": "eJV8f5wk3TKM",
        "outputId": "90b4a0db-ea2e-4cc4-f7e0-1547578c02d9"
      },
      "outputs": [
        {
          "name": "stdout",
          "text": "Files saved:\n - Data/Result/test_labels.csv\n - Data/Result/predictions.csv\n",
          "output_type": "stream"
        }
      ],
      "execution_count": null
    },
    {
      "cell_type": "code",
      "source": [],
      "metadata": {
        "trusted": true,
        "id": "9ZEOmB0-3TKN"
      },
      "outputs": [],
      "execution_count": null
    }
  ]
}